{
 "cells": [
  {
   "attachments": {},
   "cell_type": "markdown",
   "metadata": {},
   "source": [
    "# Python Lab 6 - Group 9\n",
    "## Mohammad Reza Safavi 98106701\n",
    "## Amir Hossein  Golshirazi 98102187\n",
    "## Mehran Mazaheri 98102346"
   ]
  },
  {
   "attachments": {},
   "cell_type": "markdown",
   "metadata": {},
   "source": [
    "## 1.Object Oriented Programming"
   ]
  },
  {
   "attachments": {},
   "cell_type": "markdown",
   "metadata": {},
   "source": [
    "### define class Set"
   ]
  },
  {
   "cell_type": "code",
   "execution_count": 1,
   "metadata": {},
   "outputs": [],
   "source": [
    "class Set:\n",
    "    def __init__(self):\n",
    "        self.members = []\n",
    "\n",
    "    def add(self, x):\n",
    "        if x not in self.members:\n",
    "            self.members.append(x)\n",
    "\n",
    "    def delete(self, x):\n",
    "        if x in self.members:\n",
    "            self.members.remove(x)\n",
    "\n",
    "    def __and__(self, other):\n",
    "        temp = Set()\n",
    "        for x in self.members:\n",
    "            if x in other.members:\n",
    "                temp.add(x)\n",
    "        return temp\n",
    "\n",
    "    def __or__(self, other):\n",
    "        temp = Set()\n",
    "        temp.members = self.members.copy()\n",
    "        for x in other.members:\n",
    "            temp.add(x)\n",
    "        return temp\n",
    "\n",
    "    def __eq__(self, other):\n",
    "        return self.members == other.members"
   ]
  },
  {
   "attachments": {},
   "cell_type": "markdown",
   "metadata": {},
   "source": [
    "### Functionality Check"
   ]
  },
  {
   "cell_type": "code",
   "execution_count": 2,
   "metadata": {},
   "outputs": [
    {
     "name": "stdout",
     "output_type": "stream",
     "text": [
      "a members are:[3, '3', 5]\n",
      "b members are:['4', 5]\n",
      "(a&b) members are:[5]\n",
      "(a|b) members are:[3, '3', 5, '4']\n",
      "a == b? False\n",
      "a members after member deletion are:['3', 5]\n"
     ]
    }
   ],
   "source": [
    "a = Set()\n",
    "b = Set()\n",
    "a.add(3)\n",
    "b.add(\"4\")\n",
    "a.add(\"3\")\n",
    "a.add(3)\n",
    "b.add(5)\n",
    "a.add(5)\n",
    "a.add(5)\n",
    "print(\"a members are:\", end=\"\")\n",
    "print(a.members)\n",
    "print(\"b members are:\", end=\"\")\n",
    "print(b.members)\n",
    "print(\"(a&b) members are:\", end=\"\")\n",
    "print((a&b).members)\n",
    "print(\"(a|b) members are:\", end=\"\")\n",
    "print((a|b).members)\n",
    "print(\"a == b? \", end=\"\")\n",
    "print(a == b)\n",
    "a.delete(3)\n",
    "print(\"a members after member deletion are:\", end=\"\")\n",
    "print(a.members)"
   ]
  },
  {
   "attachments": {},
   "cell_type": "markdown",
   "metadata": {},
   "source": [
    "## 2.Pandas"
   ]
  },
  {
   "cell_type": "code",
   "execution_count": 3,
   "metadata": {},
   "outputs": [],
   "source": [
    "import pandas as pd\n",
    "import numpy as np"
   ]
  },
  {
   "attachments": {},
   "cell_type": "markdown",
   "metadata": {},
   "source": [
    "### print dataframe"
   ]
  },
  {
   "cell_type": "code",
   "execution_count": 4,
   "metadata": {},
   "outputs": [
    {
     "name": "stdout",
     "output_type": "stream",
     "text": [
      "          A         B         C         D\n",
      "1  0.560820  0.971792  0.856193  0.089944\n",
      "2  0.342301  0.643716  0.856168  0.774514\n",
      "3  0.605562  0.482676  0.784484  0.447043\n",
      "4  0.879824  0.595028  0.681473  0.425563\n",
      "5  0.793584  0.821996  0.919672  0.185603\n",
      "6  0.126586  0.565663  0.402491  0.136111\n"
     ]
    }
   ],
   "source": [
    "indexes = [1, 2, 3, 4, 5, 6]\n",
    "columns = ['A', 'B', 'C', 'D']\n",
    "df = pd.DataFrame(data=np.random.rand(6,4), columns=columns, index=indexes)\n",
    "print(df)"
   ]
  },
  {
   "attachments": {},
   "cell_type": "markdown",
   "metadata": {},
   "source": [
    "### print first 2-rows"
   ]
  },
  {
   "cell_type": "code",
   "execution_count": null,
   "metadata": {},
   "outputs": [],
   "source": [
    "print(df.head(2))"
   ]
  },
  {
   "attachments": {},
   "cell_type": "markdown",
   "metadata": {},
   "source": [
    "### print last 2-rows"
   ]
  },
  {
   "cell_type": "code",
   "execution_count": null,
   "metadata": {},
   "outputs": [],
   "source": [
    "print(df.tail(2))"
   ]
  },
  {
   "attachments": {},
   "cell_type": "markdown",
   "metadata": {},
   "source": [
    "### df.values\n",
    "this command returns all values of dataframe as ndarray"
   ]
  },
  {
   "cell_type": "code",
   "execution_count": 5,
   "metadata": {},
   "outputs": [
    {
     "data": {
      "text/plain": [
       "array([[0.56081977, 0.97179217, 0.85619304, 0.08994437],\n",
       "       [0.34230058, 0.64371564, 0.85616756, 0.77451403],\n",
       "       [0.60556213, 0.48267598, 0.7844843 , 0.44704281],\n",
       "       [0.87982407, 0.59502839, 0.68147293, 0.42556254],\n",
       "       [0.7935835 , 0.8219961 , 0.91967163, 0.18560312],\n",
       "       [0.12658578, 0.56566276, 0.4024913 , 0.13611117]])"
      ]
     },
     "execution_count": 5,
     "metadata": {},
     "output_type": "execute_result"
    }
   ],
   "source": [
    "df.values"
   ]
  },
  {
   "attachments": {},
   "cell_type": "markdown",
   "metadata": {},
   "source": [
    "### df.columns\n",
    "this command returns the column labels of the DataFrame."
   ]
  },
  {
   "cell_type": "code",
   "execution_count": 6,
   "metadata": {},
   "outputs": [
    {
     "data": {
      "text/plain": [
       "Index(['A', 'B', 'C', 'D'], dtype='object')"
      ]
     },
     "execution_count": 6,
     "metadata": {},
     "output_type": "execute_result"
    }
   ],
   "source": [
    "df.columns"
   ]
  },
  {
   "attachments": {},
   "cell_type": "markdown",
   "metadata": {},
   "source": [
    "### df.index\n",
    "returns row labels of the DataFrame"
   ]
  },
  {
   "cell_type": "code",
   "execution_count": 7,
   "metadata": {},
   "outputs": [
    {
     "data": {
      "text/plain": [
       "Int64Index([1, 2, 3, 4, 5, 6], dtype='int64')"
      ]
     },
     "execution_count": 7,
     "metadata": {},
     "output_type": "execute_result"
    }
   ],
   "source": [
    "df.index"
   ]
  },
  {
   "attachments": {},
   "cell_type": "markdown",
   "metadata": {},
   "source": [
    "### df.describe\n",
    "the output of this command include those that summarize the central tendency, dispersion and shape of a dataset’s distribution, excluding NaN values."
   ]
  },
  {
   "cell_type": "code",
   "execution_count": 9,
   "metadata": {},
   "outputs": [
    {
     "data": {
      "text/plain": [
       "<bound method NDFrame.describe of           A         B         C         D\n",
       "1  0.560820  0.971792  0.856193  0.089944\n",
       "2  0.342301  0.643716  0.856168  0.774514\n",
       "3  0.605562  0.482676  0.784484  0.447043\n",
       "4  0.879824  0.595028  0.681473  0.425563\n",
       "5  0.793584  0.821996  0.919672  0.185603\n",
       "6  0.126586  0.565663  0.402491  0.136111>"
      ]
     },
     "execution_count": 9,
     "metadata": {},
     "output_type": "execute_result"
    }
   ],
   "source": [
    "df.describe"
   ]
  },
  {
   "attachments": {},
   "cell_type": "markdown",
   "metadata": {},
   "source": [
    "### 2.3 sorting DataFrame"
   ]
  },
  {
   "cell_type": "code",
   "execution_count": 10,
   "metadata": {},
   "outputs": [
    {
     "data": {
      "text/html": [
       "<div>\n",
       "<style scoped>\n",
       "    .dataframe tbody tr th:only-of-type {\n",
       "        vertical-align: middle;\n",
       "    }\n",
       "\n",
       "    .dataframe tbody tr th {\n",
       "        vertical-align: top;\n",
       "    }\n",
       "\n",
       "    .dataframe thead th {\n",
       "        text-align: right;\n",
       "    }\n",
       "</style>\n",
       "<table border=\"1\" class=\"dataframe\">\n",
       "  <thead>\n",
       "    <tr style=\"text-align: right;\">\n",
       "      <th></th>\n",
       "      <th>A</th>\n",
       "      <th>B</th>\n",
       "      <th>C</th>\n",
       "      <th>D</th>\n",
       "    </tr>\n",
       "  </thead>\n",
       "  <tbody>\n",
       "    <tr>\n",
       "      <th>1</th>\n",
       "      <td>0.560820</td>\n",
       "      <td>0.971792</td>\n",
       "      <td>0.856193</td>\n",
       "      <td>0.089944</td>\n",
       "    </tr>\n",
       "    <tr>\n",
       "      <th>5</th>\n",
       "      <td>0.793584</td>\n",
       "      <td>0.821996</td>\n",
       "      <td>0.919672</td>\n",
       "      <td>0.185603</td>\n",
       "    </tr>\n",
       "    <tr>\n",
       "      <th>2</th>\n",
       "      <td>0.342301</td>\n",
       "      <td>0.643716</td>\n",
       "      <td>0.856168</td>\n",
       "      <td>0.774514</td>\n",
       "    </tr>\n",
       "    <tr>\n",
       "      <th>4</th>\n",
       "      <td>0.879824</td>\n",
       "      <td>0.595028</td>\n",
       "      <td>0.681473</td>\n",
       "      <td>0.425563</td>\n",
       "    </tr>\n",
       "    <tr>\n",
       "      <th>6</th>\n",
       "      <td>0.126586</td>\n",
       "      <td>0.565663</td>\n",
       "      <td>0.402491</td>\n",
       "      <td>0.136111</td>\n",
       "    </tr>\n",
       "    <tr>\n",
       "      <th>3</th>\n",
       "      <td>0.605562</td>\n",
       "      <td>0.482676</td>\n",
       "      <td>0.784484</td>\n",
       "      <td>0.447043</td>\n",
       "    </tr>\n",
       "  </tbody>\n",
       "</table>\n",
       "</div>"
      ],
      "text/plain": [
       "          A         B         C         D\n",
       "1  0.560820  0.971792  0.856193  0.089944\n",
       "5  0.793584  0.821996  0.919672  0.185603\n",
       "2  0.342301  0.643716  0.856168  0.774514\n",
       "4  0.879824  0.595028  0.681473  0.425563\n",
       "6  0.126586  0.565663  0.402491  0.136111\n",
       "3  0.605562  0.482676  0.784484  0.447043"
      ]
     },
     "execution_count": 10,
     "metadata": {},
     "output_type": "execute_result"
    }
   ],
   "source": [
    "df.sort_values(by=['B','C'], ascending=[False, True],inplace=True)\n",
    "df"
   ]
  },
  {
   "attachments": {},
   "cell_type": "markdown",
   "metadata": {},
   "source": [
    "### add series to DataFrame"
   ]
  },
  {
   "cell_type": "code",
   "execution_count": 11,
   "metadata": {},
   "outputs": [
    {
     "data": {
      "text/html": [
       "<div>\n",
       "<style scoped>\n",
       "    .dataframe tbody tr th:only-of-type {\n",
       "        vertical-align: middle;\n",
       "    }\n",
       "\n",
       "    .dataframe tbody tr th {\n",
       "        vertical-align: top;\n",
       "    }\n",
       "\n",
       "    .dataframe thead th {\n",
       "        text-align: right;\n",
       "    }\n",
       "</style>\n",
       "<table border=\"1\" class=\"dataframe\">\n",
       "  <thead>\n",
       "    <tr style=\"text-align: right;\">\n",
       "      <th></th>\n",
       "      <th>A</th>\n",
       "      <th>B</th>\n",
       "      <th>C</th>\n",
       "      <th>D</th>\n",
       "      <th>F</th>\n",
       "    </tr>\n",
       "  </thead>\n",
       "  <tbody>\n",
       "    <tr>\n",
       "      <th>1</th>\n",
       "      <td>0.560820</td>\n",
       "      <td>0.971792</td>\n",
       "      <td>0.856193</td>\n",
       "      <td>0.089944</td>\n",
       "      <td>1</td>\n",
       "    </tr>\n",
       "    <tr>\n",
       "      <th>5</th>\n",
       "      <td>0.793584</td>\n",
       "      <td>0.821996</td>\n",
       "      <td>0.919672</td>\n",
       "      <td>0.185603</td>\n",
       "      <td>2</td>\n",
       "    </tr>\n",
       "    <tr>\n",
       "      <th>2</th>\n",
       "      <td>0.342301</td>\n",
       "      <td>0.643716</td>\n",
       "      <td>0.856168</td>\n",
       "      <td>0.774514</td>\n",
       "      <td>3</td>\n",
       "    </tr>\n",
       "    <tr>\n",
       "      <th>4</th>\n",
       "      <td>0.879824</td>\n",
       "      <td>0.595028</td>\n",
       "      <td>0.681473</td>\n",
       "      <td>0.425563</td>\n",
       "      <td>4</td>\n",
       "    </tr>\n",
       "    <tr>\n",
       "      <th>6</th>\n",
       "      <td>0.126586</td>\n",
       "      <td>0.565663</td>\n",
       "      <td>0.402491</td>\n",
       "      <td>0.136111</td>\n",
       "      <td>5</td>\n",
       "    </tr>\n",
       "    <tr>\n",
       "      <th>3</th>\n",
       "      <td>0.605562</td>\n",
       "      <td>0.482676</td>\n",
       "      <td>0.784484</td>\n",
       "      <td>0.447043</td>\n",
       "      <td>6</td>\n",
       "    </tr>\n",
       "  </tbody>\n",
       "</table>\n",
       "</div>"
      ],
      "text/plain": [
       "          A         B         C         D  F\n",
       "1  0.560820  0.971792  0.856193  0.089944  1\n",
       "5  0.793584  0.821996  0.919672  0.185603  2\n",
       "2  0.342301  0.643716  0.856168  0.774514  3\n",
       "4  0.879824  0.595028  0.681473  0.425563  4\n",
       "6  0.126586  0.565663  0.402491  0.136111  5\n",
       "3  0.605562  0.482676  0.784484  0.447043  6"
      ]
     },
     "execution_count": 11,
     "metadata": {},
     "output_type": "execute_result"
    }
   ],
   "source": [
    "S = pd.Series(data=[1, 2, 3, 4, 5, 6])\n",
    "df['F'] = S.values\n",
    "df"
   ]
  },
  {
   "attachments": {},
   "cell_type": "markdown",
   "metadata": {},
   "source": [
    "### replace determined value with NaN using df.iat"
   ]
  },
  {
   "cell_type": "code",
   "execution_count": 12,
   "metadata": {},
   "outputs": [
    {
     "data": {
      "text/html": [
       "<div>\n",
       "<style scoped>\n",
       "    .dataframe tbody tr th:only-of-type {\n",
       "        vertical-align: middle;\n",
       "    }\n",
       "\n",
       "    .dataframe tbody tr th {\n",
       "        vertical-align: top;\n",
       "    }\n",
       "\n",
       "    .dataframe thead th {\n",
       "        text-align: right;\n",
       "    }\n",
       "</style>\n",
       "<table border=\"1\" class=\"dataframe\">\n",
       "  <thead>\n",
       "    <tr style=\"text-align: right;\">\n",
       "      <th></th>\n",
       "      <th>A</th>\n",
       "      <th>B</th>\n",
       "      <th>C</th>\n",
       "      <th>D</th>\n",
       "      <th>F</th>\n",
       "    </tr>\n",
       "  </thead>\n",
       "  <tbody>\n",
       "    <tr>\n",
       "      <th>1</th>\n",
       "      <td>0.560820</td>\n",
       "      <td>0.971792</td>\n",
       "      <td>0.856193</td>\n",
       "      <td>0.089944</td>\n",
       "      <td>1.0</td>\n",
       "    </tr>\n",
       "    <tr>\n",
       "      <th>5</th>\n",
       "      <td>0.793584</td>\n",
       "      <td>0.821996</td>\n",
       "      <td>0.919672</td>\n",
       "      <td>0.185603</td>\n",
       "      <td>2.0</td>\n",
       "    </tr>\n",
       "    <tr>\n",
       "      <th>2</th>\n",
       "      <td>0.342301</td>\n",
       "      <td>0.643716</td>\n",
       "      <td>0.856168</td>\n",
       "      <td>0.774514</td>\n",
       "      <td>NaN</td>\n",
       "    </tr>\n",
       "    <tr>\n",
       "      <th>4</th>\n",
       "      <td>0.879824</td>\n",
       "      <td>0.595028</td>\n",
       "      <td>0.681473</td>\n",
       "      <td>0.425563</td>\n",
       "      <td>4.0</td>\n",
       "    </tr>\n",
       "    <tr>\n",
       "      <th>6</th>\n",
       "      <td>0.126586</td>\n",
       "      <td>0.565663</td>\n",
       "      <td>0.402491</td>\n",
       "      <td>0.136111</td>\n",
       "      <td>NaN</td>\n",
       "    </tr>\n",
       "    <tr>\n",
       "      <th>3</th>\n",
       "      <td>0.605562</td>\n",
       "      <td>0.482676</td>\n",
       "      <td>0.784484</td>\n",
       "      <td>0.447043</td>\n",
       "      <td>6.0</td>\n",
       "    </tr>\n",
       "  </tbody>\n",
       "</table>\n",
       "</div>"
      ],
      "text/plain": [
       "          A         B         C         D    F\n",
       "1  0.560820  0.971792  0.856193  0.089944  1.0\n",
       "5  0.793584  0.821996  0.919672  0.185603  2.0\n",
       "2  0.342301  0.643716  0.856168  0.774514  NaN\n",
       "4  0.879824  0.595028  0.681473  0.425563  4.0\n",
       "6  0.126586  0.565663  0.402491  0.136111  NaN\n",
       "3  0.605562  0.482676  0.784484  0.447043  6.0"
      ]
     },
     "execution_count": 12,
     "metadata": {},
     "output_type": "execute_result"
    }
   ],
   "source": [
    "df.iat[2, 4] = np.nan\n",
    "df.iat[4, 4] = np.nan\n",
    "# df.at[3, 'F'] = np.nan\n",
    "# df.at[5, 'F'] = np.nan\n",
    "df"
   ]
  },
  {
   "attachments": {},
   "cell_type": "markdown",
   "metadata": {},
   "source": [
    "### Access a group of rows and columns"
   ]
  },
  {
   "cell_type": "code",
   "execution_count": 13,
   "metadata": {},
   "outputs": [
    {
     "data": {
      "text/html": [
       "<div>\n",
       "<style scoped>\n",
       "    .dataframe tbody tr th:only-of-type {\n",
       "        vertical-align: middle;\n",
       "    }\n",
       "\n",
       "    .dataframe tbody tr th {\n",
       "        vertical-align: top;\n",
       "    }\n",
       "\n",
       "    .dataframe thead th {\n",
       "        text-align: right;\n",
       "    }\n",
       "</style>\n",
       "<table border=\"1\" class=\"dataframe\">\n",
       "  <thead>\n",
       "    <tr style=\"text-align: right;\">\n",
       "      <th></th>\n",
       "      <th>A</th>\n",
       "      <th>F</th>\n",
       "    </tr>\n",
       "  </thead>\n",
       "  <tbody>\n",
       "    <tr>\n",
       "      <th>1</th>\n",
       "      <td>0.560820</td>\n",
       "      <td>1.0</td>\n",
       "    </tr>\n",
       "    <tr>\n",
       "      <th>2</th>\n",
       "      <td>0.342301</td>\n",
       "      <td>NaN</td>\n",
       "    </tr>\n",
       "    <tr>\n",
       "      <th>3</th>\n",
       "      <td>0.605562</td>\n",
       "      <td>6.0</td>\n",
       "    </tr>\n",
       "  </tbody>\n",
       "</table>\n",
       "</div>"
      ],
      "text/plain": [
       "          A    F\n",
       "1  0.560820  1.0\n",
       "2  0.342301  NaN\n",
       "3  0.605562  6.0"
      ]
     },
     "execution_count": 13,
     "metadata": {},
     "output_type": "execute_result"
    }
   ],
   "source": [
    "df.loc[[1, 2, 3], ['A', 'F']]\n",
    "# df.iloc[[0,1,2], [0,4]]"
   ]
  },
  {
   "attachments": {},
   "cell_type": "markdown",
   "metadata": {},
   "source": [
    "### Remove missing values using dropna"
   ]
  },
  {
   "cell_type": "code",
   "execution_count": 14,
   "metadata": {},
   "outputs": [
    {
     "data": {
      "text/html": [
       "<div>\n",
       "<style scoped>\n",
       "    .dataframe tbody tr th:only-of-type {\n",
       "        vertical-align: middle;\n",
       "    }\n",
       "\n",
       "    .dataframe tbody tr th {\n",
       "        vertical-align: top;\n",
       "    }\n",
       "\n",
       "    .dataframe thead th {\n",
       "        text-align: right;\n",
       "    }\n",
       "</style>\n",
       "<table border=\"1\" class=\"dataframe\">\n",
       "  <thead>\n",
       "    <tr style=\"text-align: right;\">\n",
       "      <th></th>\n",
       "      <th>A</th>\n",
       "      <th>B</th>\n",
       "      <th>C</th>\n",
       "      <th>D</th>\n",
       "      <th>F</th>\n",
       "    </tr>\n",
       "  </thead>\n",
       "  <tbody>\n",
       "    <tr>\n",
       "      <th>1</th>\n",
       "      <td>0.560820</td>\n",
       "      <td>0.971792</td>\n",
       "      <td>0.856193</td>\n",
       "      <td>0.089944</td>\n",
       "      <td>1.0</td>\n",
       "    </tr>\n",
       "    <tr>\n",
       "      <th>5</th>\n",
       "      <td>0.793584</td>\n",
       "      <td>0.821996</td>\n",
       "      <td>0.919672</td>\n",
       "      <td>0.185603</td>\n",
       "      <td>2.0</td>\n",
       "    </tr>\n",
       "    <tr>\n",
       "      <th>4</th>\n",
       "      <td>0.879824</td>\n",
       "      <td>0.595028</td>\n",
       "      <td>0.681473</td>\n",
       "      <td>0.425563</td>\n",
       "      <td>4.0</td>\n",
       "    </tr>\n",
       "    <tr>\n",
       "      <th>3</th>\n",
       "      <td>0.605562</td>\n",
       "      <td>0.482676</td>\n",
       "      <td>0.784484</td>\n",
       "      <td>0.447043</td>\n",
       "      <td>6.0</td>\n",
       "    </tr>\n",
       "  </tbody>\n",
       "</table>\n",
       "</div>"
      ],
      "text/plain": [
       "          A         B         C         D    F\n",
       "1  0.560820  0.971792  0.856193  0.089944  1.0\n",
       "5  0.793584  0.821996  0.919672  0.185603  2.0\n",
       "4  0.879824  0.595028  0.681473  0.425563  4.0\n",
       "3  0.605562  0.482676  0.784484  0.447043  6.0"
      ]
     },
     "execution_count": 14,
     "metadata": {},
     "output_type": "execute_result"
    }
   ],
   "source": [
    "df1 = df.dropna(inplace=False)\n",
    "df1"
   ]
  },
  {
   "attachments": {},
   "cell_type": "markdown",
   "metadata": {},
   "source": [
    "### fill missing values using fillna"
   ]
  },
  {
   "cell_type": "code",
   "execution_count": 16,
   "metadata": {},
   "outputs": [
    {
     "data": {
      "text/html": [
       "<div>\n",
       "<style scoped>\n",
       "    .dataframe tbody tr th:only-of-type {\n",
       "        vertical-align: middle;\n",
       "    }\n",
       "\n",
       "    .dataframe tbody tr th {\n",
       "        vertical-align: top;\n",
       "    }\n",
       "\n",
       "    .dataframe thead th {\n",
       "        text-align: right;\n",
       "    }\n",
       "</style>\n",
       "<table border=\"1\" class=\"dataframe\">\n",
       "  <thead>\n",
       "    <tr style=\"text-align: right;\">\n",
       "      <th></th>\n",
       "      <th>A</th>\n",
       "      <th>B</th>\n",
       "      <th>C</th>\n",
       "      <th>D</th>\n",
       "      <th>F</th>\n",
       "    </tr>\n",
       "  </thead>\n",
       "  <tbody>\n",
       "    <tr>\n",
       "      <th>1</th>\n",
       "      <td>0.560820</td>\n",
       "      <td>0.971792</td>\n",
       "      <td>0.856193</td>\n",
       "      <td>0.089944</td>\n",
       "      <td>1.00</td>\n",
       "    </tr>\n",
       "    <tr>\n",
       "      <th>5</th>\n",
       "      <td>0.793584</td>\n",
       "      <td>0.821996</td>\n",
       "      <td>0.919672</td>\n",
       "      <td>0.185603</td>\n",
       "      <td>2.00</td>\n",
       "    </tr>\n",
       "    <tr>\n",
       "      <th>2</th>\n",
       "      <td>0.342301</td>\n",
       "      <td>0.643716</td>\n",
       "      <td>0.856168</td>\n",
       "      <td>0.774514</td>\n",
       "      <td>3.25</td>\n",
       "    </tr>\n",
       "    <tr>\n",
       "      <th>4</th>\n",
       "      <td>0.879824</td>\n",
       "      <td>0.595028</td>\n",
       "      <td>0.681473</td>\n",
       "      <td>0.425563</td>\n",
       "      <td>4.00</td>\n",
       "    </tr>\n",
       "    <tr>\n",
       "      <th>6</th>\n",
       "      <td>0.126586</td>\n",
       "      <td>0.565663</td>\n",
       "      <td>0.402491</td>\n",
       "      <td>0.136111</td>\n",
       "      <td>3.25</td>\n",
       "    </tr>\n",
       "    <tr>\n",
       "      <th>3</th>\n",
       "      <td>0.605562</td>\n",
       "      <td>0.482676</td>\n",
       "      <td>0.784484</td>\n",
       "      <td>0.447043</td>\n",
       "      <td>6.00</td>\n",
       "    </tr>\n",
       "  </tbody>\n",
       "</table>\n",
       "</div>"
      ],
      "text/plain": [
       "          A         B         C         D     F\n",
       "1  0.560820  0.971792  0.856193  0.089944  1.00\n",
       "5  0.793584  0.821996  0.919672  0.185603  2.00\n",
       "2  0.342301  0.643716  0.856168  0.774514  3.25\n",
       "4  0.879824  0.595028  0.681473  0.425563  4.00\n",
       "6  0.126586  0.565663  0.402491  0.136111  3.25\n",
       "3  0.605562  0.482676  0.784484  0.447043  6.00"
      ]
     },
     "execution_count": 16,
     "metadata": {},
     "output_type": "execute_result"
    }
   ],
   "source": [
    "df2 = df.fillna(np.average(df.loc[:,\"F\"].dropna(inplace=False)),inplace=False)\n",
    "df2"
   ]
  },
  {
   "attachments": {},
   "cell_type": "markdown",
   "metadata": {},
   "source": [
    "## 3.matplotlib"
   ]
  },
  {
   "cell_type": "code",
   "execution_count": 17,
   "metadata": {},
   "outputs": [],
   "source": [
    "import pandas as pd\n",
    "import matplotlib.pyplot as plt"
   ]
  },
  {
   "attachments": {},
   "cell_type": "markdown",
   "metadata": {},
   "source": [
    "### load DataFrame"
   ]
  },
  {
   "cell_type": "code",
   "execution_count": 18,
   "metadata": {},
   "outputs": [],
   "source": [
    "df = pd.read_csv(\"train.csv\")"
   ]
  },
  {
   "attachments": {},
   "cell_type": "markdown",
   "metadata": {},
   "source": [
    "### plot histogram"
   ]
  },
  {
   "cell_type": "code",
   "execution_count": 19,
   "metadata": {},
   "outputs": [
    {
     "data": {
      "text/plain": [
       "Text(0.5, 0, 'Applicant Income')"
      ]
     },
     "execution_count": 19,
     "metadata": {},
     "output_type": "execute_result"
    },
    {
     "data": {
      "image/png": "[encoded data removed]",
      "text/plain": [
       "<Figure size 432x288 with 1 Axes>"
      ]
     },
     "metadata": {
      "needs_background": "light"
     },
     "output_type": "display_data"
    }
   ],
   "source": [
    "plt.hist(df['ApplicantIncome'],edgecolor='black', bins=50)\n",
    "plt.title('Histogram of train')\n",
    "plt.xlabel(\"Applicant Income\")"
   ]
  },
  {
   "attachments": {},
   "cell_type": "markdown",
   "metadata": {},
   "source": [
    "### plot boxplot"
   ]
  },
  {
   "cell_type": "code",
   "execution_count": 20,
   "metadata": {},
   "outputs": [
    {
     "data": {
      "text/plain": [
       "Text(0, 0.5, 'Applicant Income')"
      ]
     },
     "execution_count": 20,
     "metadata": {},
     "output_type": "execute_result"
    },
    {
     "data": {
      "image/png": "[encoded data removed]",
      "text/plain": [
       "<Figure size 432x288 with 1 Axes>"
      ]
     },
     "metadata": {
      "needs_background": "light"
     },
     "output_type": "display_data"
    }
   ],
   "source": [
    "df.boxplot(column='ApplicantIncome', by='Education')\n",
    "plt.title(\"\")\n",
    "plt.ylabel('Applicant Income')"
   ]
  },
  {
   "attachments": {},
   "cell_type": "markdown",
   "metadata": {},
   "source": [
    "### subplot dataframe plots"
   ]
  },
  {
   "cell_type": "code",
   "execution_count": 21,
   "metadata": {},
   "outputs": [
    {
     "data": {
      "text/plain": [
       "Text(0.5, 0, 'Credit_History')"
      ]
     },
     "execution_count": 21,
     "metadata": {},
     "output_type": "execute_result"
    },
    {
     "data": {
      "image/png": "[encoded data removed]",
      "text/plain": [
       "<Figure size 432x288 with 2 Axes>"
      ]
     },
     "metadata": {
      "needs_background": "light"
     },
     "output_type": "display_data"
    }
   ],
   "source": [
    "df['Loan_Status'].replace(['N', 'Y'], [0, 1], inplace=True)\n",
    "c1, c1_l, c0, c0_l = [0, 0, 0, 0]\n",
    "for index, row in df.iterrows():\n",
    "    if row['Credit_History'] == 1:\n",
    "        c1 += 1\n",
    "        c1_l += row['Loan_Status']\n",
    "    else:\n",
    "        c0 += 1\n",
    "        c0_l += row['Loan_Status']\n",
    "fig1 = plt.figure(constrained_layout=True)\n",
    "axs = fig1.subplots(2)\n",
    "df.plot.bar(x='Credit_History',y='ApplicantIncome', ax=axs[0])\n",
    "axs[1].bar(x=[0,1], height=[c0_l/c0, c1_l/c1],)\n",
    "axs[1].set_ylabel(\"probability\")\n",
    "axs[1].set_xlabel('Credit_History')"
   ]
  },
  {
   "attachments": {},
   "cell_type": "markdown",
   "metadata": {},
   "source": [
    "## 4.Numpy & Scipy"
   ]
  },
  {
   "cell_type": "code",
   "execution_count": 22,
   "metadata": {},
   "outputs": [],
   "source": [
    "import numpy as np\n",
    "from scipy.fft import fft\n",
    "from scipy.special import sinc\n",
    "import matplotlib.pyplot as plt"
   ]
  },
  {
   "attachments": {},
   "cell_type": "markdown",
   "metadata": {},
   "source": [
    "### 4.1 np.arange, reshape, concatinate"
   ]
  },
  {
   "cell_type": "code",
   "execution_count": 23,
   "metadata": {},
   "outputs": [
    {
     "data": {
      "text/plain": [
       "array([[ 0,  1, 86, 59, 43],\n",
       "       [ 2,  3, 96, 54, 13],\n",
       "       [ 4,  5, 66, 59, 70]])"
      ]
     },
     "execution_count": 23,
     "metadata": {},
     "output_type": "execute_result"
    }
   ],
   "source": [
    "X = np.arange(stop=6)\n",
    "X = np.reshape(X,[3,2])\n",
    "Y = np.random.randint(low=0, high=100, size=(3, 3))\n",
    "Z = np.concatenate((X,Y), axis=1)\n",
    "Z"
   ]
  },
  {
   "attachments": {},
   "cell_type": "markdown",
   "metadata": {},
   "source": [
    "### flatten ndarray"
   ]
  },
  {
   "cell_type": "code",
   "execution_count": 24,
   "metadata": {},
   "outputs": [
    {
     "data": {
      "text/plain": [
       "array([ 0,  1, 86, 59, 43,  2,  3, 96, 54, 13,  4,  5, 66, 59, 70])"
      ]
     },
     "execution_count": 24,
     "metadata": {},
     "output_type": "execute_result"
    }
   ],
   "source": [
    "np.ravel(Z)"
   ]
  },
  {
   "attachments": {},
   "cell_type": "markdown",
   "metadata": {},
   "source": [
    "### indices of the maximum values"
   ]
  },
  {
   "cell_type": "code",
   "execution_count": 25,
   "metadata": {},
   "outputs": [
    {
     "data": {
      "text/plain": [
       "7"
      ]
     },
     "execution_count": 25,
     "metadata": {},
     "output_type": "execute_result"
    }
   ],
   "source": [
    "np.argmax(Z)"
   ]
  },
  {
   "attachments": {},
   "cell_type": "markdown",
   "metadata": {},
   "source": [
    "### 4.2 matrix definition"
   ]
  },
  {
   "cell_type": "code",
   "execution_count": 26,
   "metadata": {},
   "outputs": [
    {
     "data": {
      "text/plain": [
       "matrix([[3, 1, 4],\n",
       "        [1, 5, 9],\n",
       "        [2, 6, 5]])"
      ]
     },
     "execution_count": 26,
     "metadata": {},
     "output_type": "execute_result"
    }
   ],
   "source": [
    "A = np.mat([[3,1,4],[1,5,9],[2,6,5]])\n",
    "b = np.mat( [2,4,-1])\n",
    "A"
   ]
  },
  {
   "cell_type": "code",
   "execution_count": 27,
   "metadata": {},
   "outputs": [
    {
     "data": {
      "text/plain": [
       "matrix([[ 2,  4, -1]])"
      ]
     },
     "execution_count": 27,
     "metadata": {},
     "output_type": "execute_result"
    }
   ],
   "source": [
    "b"
   ]
  },
  {
   "attachments": {},
   "cell_type": "markdown",
   "metadata": {},
   "source": [
    "### calculate transpose"
   ]
  },
  {
   "cell_type": "code",
   "execution_count": 144,
   "metadata": {},
   "outputs": [
    {
     "data": {
      "text/plain": [
       "matrix([[3, 1, 2],\n",
       "        [1, 5, 6],\n",
       "        [4, 9, 5]])"
      ]
     },
     "execution_count": 144,
     "metadata": {},
     "output_type": "execute_result"
    }
   ],
   "source": [
    "A.T"
   ]
  },
  {
   "attachments": {},
   "cell_type": "markdown",
   "metadata": {},
   "source": [
    "### calculate inverse of matrix"
   ]
  },
  {
   "cell_type": "code",
   "execution_count": 28,
   "metadata": {},
   "outputs": [
    {
     "data": {
      "text/plain": [
       "matrix([[ 0.32222222, -0.21111111,  0.12222222],\n",
       "        [-0.14444444, -0.07777778,  0.25555556],\n",
       "        [ 0.04444444,  0.17777778, -0.15555556]])"
      ]
     },
     "execution_count": 28,
     "metadata": {},
     "output_type": "execute_result"
    }
   ],
   "source": [
    "np.linalg.inv(A)"
   ]
  },
  {
   "attachments": {},
   "cell_type": "markdown",
   "metadata": {},
   "source": [
    "### calculate determinant of matrix"
   ]
  },
  {
   "cell_type": "code",
   "execution_count": 29,
   "metadata": {},
   "outputs": [
    {
     "data": {
      "text/plain": [
       "-90.0"
      ]
     },
     "execution_count": 29,
     "metadata": {},
     "output_type": "execute_result"
    }
   ],
   "source": [
    "np.linalg.det(A)"
   ]
  },
  {
   "attachments": {},
   "cell_type": "markdown",
   "metadata": {},
   "source": [
    "### calculate eigen values and eigen vectors of matrix"
   ]
  },
  {
   "cell_type": "code",
   "execution_count": 30,
   "metadata": {},
   "outputs": [
    {
     "data": {
      "text/plain": [
       "(array([13.08576474,  2.58000566, -2.66577041]),\n",
       " matrix([[-0.31542644, -0.95117074, -0.32372474],\n",
       "         [-0.72306109,  0.30781323, -0.70222933],\n",
       "         [-0.61456393,  0.02291827,  0.63409484]]))"
      ]
     },
     "execution_count": 30,
     "metadata": {},
     "output_type": "execute_result"
    }
   ],
   "source": [
    "np.linalg.eig(A)"
   ]
  },
  {
   "attachments": {},
   "cell_type": "markdown",
   "metadata": {},
   "source": [
    "### calculate SVD decomposition of matrix"
   ]
  },
  {
   "cell_type": "code",
   "execution_count": 31,
   "metadata": {},
   "outputs": [
    {
     "data": {
      "text/plain": [
       "(matrix([[-0.32463251,  0.79898436,  0.50619929],\n",
       "         [-0.75307473,  0.1054674 , -0.64942672],\n",
       "         [-0.57226932, -0.59203093,  0.56745679]]),\n",
       " array([13.58235799,  2.84547726,  2.32869289]),\n",
       " matrix([[-0.21141476, -0.55392606, -0.80527617],\n",
       "         [ 0.46331722, -0.78224635,  0.41644663],\n",
       "         [ 0.86060499,  0.28505536, -0.42202191]]))"
      ]
     },
     "execution_count": 31,
     "metadata": {},
     "output_type": "execute_result"
    }
   ],
   "source": [
    "np.linalg.svd(A)"
   ]
  },
  {
   "attachments": {},
   "cell_type": "markdown",
   "metadata": {},
   "source": [
    "### calculate QR decomposition of matrix"
   ]
  },
  {
   "cell_type": "code",
   "execution_count": 32,
   "metadata": {},
   "outputs": [
    {
     "data": {
      "text/plain": [
       "(matrix([[-0.80178373,  0.56829114, -0.18490007],\n",
       "         [-0.26726124, -0.61770776, -0.73960026],\n",
       "         [-0.53452248, -0.54358283,  0.64715023]]),\n",
       " matrix([[-3.74165739, -5.34522484, -8.2850985 ],\n",
       "         [ 0.        , -5.78174467, -6.00411946],\n",
       "         [ 0.        ,  0.        , -4.16025147]]))"
      ]
     },
     "execution_count": 32,
     "metadata": {},
     "output_type": "execute_result"
    }
   ],
   "source": [
    "np.linalg.qr(A)"
   ]
  },
  {
   "attachments": {},
   "cell_type": "markdown",
   "metadata": {},
   "source": [
    "### solve equation AX = b.T"
   ]
  },
  {
   "cell_type": "code",
   "execution_count": 33,
   "metadata": {},
   "outputs": [
    {
     "data": {
      "text/plain": [
       "matrix([[-0.32222222],\n",
       "        [-0.85555556],\n",
       "        [ 0.95555556]])"
      ]
     },
     "execution_count": 33,
     "metadata": {},
     "output_type": "execute_result"
    }
   ],
   "source": [
    "np.linalg.solve(A,b=b.T)"
   ]
  },
  {
   "attachments": {},
   "cell_type": "markdown",
   "metadata": {},
   "source": [
    "### 4.3 FFT and plotting"
   ]
  },
  {
   "cell_type": "code",
   "execution_count": 34,
   "metadata": {},
   "outputs": [],
   "source": [
    "t = np.random.rand(1000)\n",
    "t -= 0.5\n",
    "t *= 20*np.pi\n",
    "t.sort()\n",
    "y = sinc(t)\n",
    "z = fft(y)"
   ]
  },
  {
   "attachments": {},
   "cell_type": "markdown",
   "metadata": {},
   "source": [
    "### plot"
   ]
  },
  {
   "cell_type": "code",
   "execution_count": 35,
   "metadata": {},
   "outputs": [
    {
     "data": {
      "text/plain": [
       "[<matplotlib.lines.Line2D at 0x144198a0970>]"
      ]
     },
     "execution_count": 35,
     "metadata": {},
     "output_type": "execute_result"
    },
    {
     "data": {
      "image/png": "[encoded data removed]",
      "text/plain": [
       "<Figure size 432x288 with 2 Axes>"
      ]
     },
     "metadata": {
      "needs_background": "light"
     },
     "output_type": "display_data"
    }
   ],
   "source": [
    "fig, axs = plt.subplots(2)\n",
    "axs[0].plot(t,y)\n",
    "axs[0].set_xlabel('t')\n",
    "axs[0].set_ylabel('y(t)')\n",
    "axs[1].set_xlabel('f')\n",
    "axs[1].set_ylabel('z(f)')\n",
    "axs[1].plot(t,z.real)"
   ]
  },
  {
   "attachments": {},
   "cell_type": "markdown",
   "metadata": {},
   "source": [
    "### save figure"
   ]
  },
  {
   "cell_type": "code",
   "execution_count": 188,
   "metadata": {},
   "outputs": [],
   "source": [
    "fig.savefig(\"figure.png\", dpi=300)"
   ]
  }
 ],
 "metadata": {
  "kernelspec": {
   "display_name": "Python 3",
   "language": "python",
   "name": "python3"
  },
  "language_info": {
   "codemirror_mode": {
    "name": "ipython",
    "version": 3
   },
   "file_extension": ".py",
   "mimetype": "text/x-python",
   "name": "python",
   "nbconvert_exporter": "python",
   "pygments_lexer": "ipython3",
   "version": "3.10.5 (tags/v3.10.5:f377153, Jun  6 2022, 16:14:13) [MSC v.1929 64 bit (AMD64)]"
  },
  "orig_nbformat": 4,
  "vscode": {
   "interpreter": {
    "hash": "4a700059dc7a096dd4f4890f5dcc2f87ca5e905804ecea300fbcc0e677f37371"
   }
  }
 },
 "nbformat": 4,
 "nbformat_minor": 2
}
